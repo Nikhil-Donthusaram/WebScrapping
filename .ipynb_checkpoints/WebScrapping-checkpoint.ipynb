{
 "cells": [
  {
   "cell_type": "markdown",
   "id": "0d4867d3-5e1d-4871-83e9-25d793f8c9f2",
   "metadata": {},
   "source": [
    "# Install Libraries"
   ]
  },
  {
   "cell_type": "code",
   "execution_count": 1,
   "id": "f1f55cf7-780e-418b-a98e-9f50b3bfce86",
   "metadata": {},
   "outputs": [
    {
     "name": "stdout",
     "output_type": "stream",
     "text": [
      "Requirement already satisfied: requests in c:\\users\\hi\\anaconda3\\lib\\site-packages (2.32.3)\n",
      "Requirement already satisfied: charset-normalizer<4,>=2 in c:\\users\\hi\\anaconda3\\lib\\site-packages (from requests) (3.3.2)\n",
      "Requirement already satisfied: idna<4,>=2.5 in c:\\users\\hi\\anaconda3\\lib\\site-packages (from requests) (3.7)\n",
      "Requirement already satisfied: urllib3<3,>=1.21.1 in c:\\users\\hi\\anaconda3\\lib\\site-packages (from requests) (2.2.3)\n",
      "Requirement already satisfied: certifi>=2017.4.17 in c:\\users\\hi\\anaconda3\\lib\\site-packages (from requests) (2024.8.30)\n"
     ]
    }
   ],
   "source": [
    "!pip install requests"
   ]
  },
  {
   "cell_type": "code",
   "execution_count": 2,
   "id": "fedce21d-dac0-4ca2-8b44-6f164c6dd2d9",
   "metadata": {},
   "outputs": [
    {
     "name": "stdout",
     "output_type": "stream",
     "text": [
      "Requirement already satisfied: beautifulsoup4 in c:\\users\\hi\\anaconda3\\lib\\site-packages (4.12.3)\n",
      "Requirement already satisfied: soupsieve>1.2 in c:\\users\\hi\\anaconda3\\lib\\site-packages (from beautifulsoup4) (2.5)\n"
     ]
    }
   ],
   "source": [
    "!pip install beautifulsoup4"
   ]
  },
  {
   "cell_type": "markdown",
   "id": "6ac7b285-bfc1-4615-9eed-0ae5e229edf2",
   "metadata": {},
   "source": [
    "# Import Necessary Libraries"
   ]
  },
  {
   "cell_type": "code",
   "execution_count": 23,
   "id": "76d25d97-a7a6-4ced-bc86-a98221edddc6",
   "metadata": {},
   "outputs": [],
   "source": [
    "import requests\n",
    "import pandas as pd\n",
    "from bs4 import BeautifulSoup"
   ]
  },
  {
   "cell_type": "markdown",
   "id": "e2bfe3f2-9e45-4d77-929a-46a6bda6f211",
   "metadata": {},
   "source": [
    "# Sending a Request to the Website"
   ]
  },
  {
   "cell_type": "code",
   "execution_count": 24,
   "id": "873cda95-99f9-42d2-9629-fa6e124c62af",
   "metadata": {},
   "outputs": [],
   "source": [
    "response = requests.get(\"https://www.flipkart.com/search?q=samsung+galaxy+s24+fe+5g&sid=tyy%2C4io&as=on&as-show=on&otracker=AS_QueryStore_OrganicAutoSuggest_1_16_na_na_ps&otracker1=AS_QueryStore_OrganicAutoSuggest_1_16_na_na_ps&as-pos=1&as-type=RECENT&suggestionId=samsung+galaxy+s24+fe+5g%7CMobiles&requestId=57110cc2-86cc-4d44-b0c1-ddc7ac374f74&as-searchtext=samsung%20galaxy%20s\")\n"
   ]
  },
  {
   "cell_type": "code",
   "execution_count": 25,
   "id": "830c2049-8942-4b86-9df6-6788a4a08393",
   "metadata": {},
   "outputs": [],
   "source": [
    "response.encoding = 'utf-8'"
   ]
  },
  {
   "cell_type": "markdown",
   "id": "af4eff05-c00c-4412-ab26-a997a1eb5679",
   "metadata": {},
   "source": [
    "# Parse the HTML Content"
   ]
  },
  {
   "cell_type": "code",
   "execution_count": 26,
   "id": "5a4f35e7-0fb6-4ea2-a8df-bf15c0938a8e",
   "metadata": {},
   "outputs": [],
   "source": [
    "soup = BeautifulSoup(response.content,\"html.parser\")"
   ]
  },
  {
   "cell_type": "markdown",
   "id": "afe66e1e-7524-4c86-a780-eee397612235",
   "metadata": {},
   "source": [
    "# Extracting the Data"
   ]
  },
  {
   "cell_type": "code",
   "execution_count": 27,
   "id": "37ea3ab3-050d-4ec4-9bfa-e306a7cd3912",
   "metadata": {},
   "outputs": [
    {
     "name": "stdout",
     "output_type": "stream",
     "text": [
      "['SAMSUNG Galaxy S24 FE 5G (Blue, 128 GB)', 'SAMSUNG Galaxy S24 FE 5G (Graphite, 128 GB)', 'SAMSUNG Galaxy S24 FE 5G (Blue, 256 GB)', 'SAMSUNG Galaxy S24 FE 5G (Mint, 256 GB)', 'SAMSUNG Galaxy S24 FE 5G (Graphite, 256 GB)', 'SAMSUNG Galaxy S24 FE 5G (Mint, 128 GB)', 'SAMSUNG Galaxy S24 5G (Cobalt Violet, 256 GB)', 'SAMSUNG Galaxy S24 5G (Marble Gray, 128 GB)', 'SAMSUNG Galaxy S24 5G (Cobalt Violet, 128 GB)', 'SAMSUNG Galaxy S24 5G (Cobalt Violet, 128 GB)']\n"
     ]
    }
   ],
   "source": [
    "names = soup.find_all(\"div\",class_ = \"KzDlHZ\")\n",
    "name = []\n",
    "for i in names[0:10]:\n",
    "    d = i.get_text()\n",
    "    name.append(d)\n",
    "print(name)"
   ]
  },
  {
   "cell_type": "code",
   "execution_count": 28,
   "id": "56c0d10c-7e3b-4b61-aa7c-94754ef99775",
   "metadata": {},
   "outputs": [
    {
     "name": "stdout",
     "output_type": "stream",
     "text": [
      "[44999.0, 44999.0, 50999.0, 50999.0, 50999.0, 44999.0, 60999.0, 54999.0, 54999.0, 59999.0]\n"
     ]
    }
   ],
   "source": [
    "import re\n",
    "prices = soup.find_all(\"div\", class_=\"Nx9bqj _4b5DiR\")\n",
    "\n",
    "price = []\n",
    "\n",
    "# Function to clean and convert price\n",
    "def clean_price(text):\n",
    "    try:\n",
    "        # Fix encoding issue\n",
    "        fixed_text = text.encode('latin1').decode('utf-8')\n",
    "    except:\n",
    "        fixed_text = text\n",
    "    \n",
    "    # Use regex to extract digits\n",
    "    match = re.search(r'[\\d,]+', fixed_text)\n",
    "    if match:\n",
    "        number_str = match.group().replace(',', '')  # Remove comma\n",
    "        return float(number_str)\n",
    "    else:\n",
    "        return None\n",
    "\n",
    "# Apply to top 10 prices\n",
    "for i in prices[0:10]:\n",
    "    raw = i.get_text()\n",
    "    cleaned = clean_price(raw)\n",
    "    if cleaned:\n",
    "        price.append(cleaned)\n",
    "\n",
    "print(price)"
   ]
  },
  {
   "cell_type": "code",
   "execution_count": 29,
   "id": "3d193d95-6090-4bb1-8b2e-6cfcff55efa3",
   "metadata": {},
   "outputs": [
    {
     "name": "stdout",
     "output_type": "stream",
     "text": [
      "[4.5, 4.5, 4.5, 4.5, 4.5, 4.5, 4.6, 4.6, 4.6, 4.6]\n"
     ]
    }
   ],
   "source": [
    "ratings = soup.find_all(\"div\",class_ = \"XQDdHH\")\n",
    "rating = []\n",
    "for i in ratings[0:10]:\n",
    "    d = i.get_text()\n",
    "    rating.append(float(d))\n",
    "print(rating)"
   ]
  },
  {
   "cell_type": "code",
   "execution_count": 30,
   "id": "1766973a-5180-4400-a2e4-dff0e0d85933",
   "metadata": {},
   "outputs": [
    {
     "name": "stdout",
     "output_type": "stream",
     "text": [
      "['https://rukminim2.flixcart.com/image/312/312/xif0q/mobile/r/s/z/-original-imahcfwmdvbcgdzs.jpeg?q=70', 'https://rukminim2.flixcart.com/image/312/312/xif0q/mobile/n/y/y/-original-imahcfwmhfccryad.jpeg?q=70', 'https://rukminim2.flixcart.com/image/312/312/xif0q/mobile/r/s/z/-original-imahcfwmdvbcgdzs.jpeg?q=70', 'https://rukminim2.flixcart.com/image/312/312/xif0q/mobile/t/m/g/-original-imahcfwmrnwy9zgn.jpeg?q=70', 'https://rukminim2.flixcart.com/image/312/312/xif0q/mobile/n/y/y/-original-imahcfwmhfccryad.jpeg?q=70', 'https://rukminim2.flixcart.com/image/312/312/xif0q/mobile/t/m/g/-original-imahcfwmrnwy9zgn.jpeg?q=70', 'https://rukminim2.flixcart.com/image/312/312/xif0q/mobile/9/5/3/-original-imahcfwmnqgkdfxr.jpeg?q=70', 'https://rukminim2.flixcart.com/image/312/312/xif0q/mobile/y/u/t/-original-imahcfwmayeffqz3.jpeg?q=70', 'https://rukminim2.flixcart.com/image/312/312/xif0q/mobile/9/5/3/-original-imahcfwmnqgkdfxr.jpeg?q=70', 'https://rukminim2.flixcart.com/image/312/312/xif0q/mobile/j/g/y/-original-imahyvnuptvxgany.jpeg?q=70']\n"
     ]
    }
   ],
   "source": [
    "images = soup.find_all(\"img\",class_ = \"DByuf4\")\n",
    "image = []\n",
    "for i in images[0:10]:\n",
    "    d = i[\"src\"]\n",
    "    image.append(d)\n",
    "print(image)"
   ]
  },
  {
   "cell_type": "code",
   "execution_count": 31,
   "id": "2bdffe97-fd32-4d0c-8043-034ac75941dc",
   "metadata": {},
   "outputs": [
    {
     "name": "stdout",
     "output_type": "stream",
     "text": [
      "['https://www.flipkart.com/samsung-galaxy-s24-fe-5g-blue-128-gb/p/itme960199e26f23?pid=MOBH4ZG3Z5NCBW2H&lid=LSTMOBH4ZG3Z5NCBW2HWQMO2K&marketplace=FLIPKART&q=samsung+galaxy+s24+fe+5g&store=tyy%2F4io&spotlightTagId=default_BestsellerId_tyy%2F4io&srno=s_1_1&otracker=AS_QueryStore_OrganicAutoSuggest_1_16_na_na_ps&otracker1=AS_QueryStore_OrganicAutoSuggest_1_16_na_na_ps&fm=organic&iid=4297b951-1dc1-4af5-97d7-553ba31ddcbb.MOBH4ZG3Z5NCBW2H.SEARCH&ppt=None&ppn=None&ssid=5q32h1who00000001747376271839&qH=f035ec546ac5ed77', 'https://www.flipkart.com/samsung-galaxy-s24-fe-5g-graphite-128-gb/p/itme960199e26f23?pid=MOBH4ZG33EBNZKS7&lid=LSTMOBH4ZG33EBNZKS751CITE&marketplace=FLIPKART&q=samsung+galaxy+s24+fe+5g&store=tyy%2F4io&spotlightTagId=default_BestsellerId_tyy%2F4io&srno=s_1_2&otracker=AS_QueryStore_OrganicAutoSuggest_1_16_na_na_ps&otracker1=AS_QueryStore_OrganicAutoSuggest_1_16_na_na_ps&fm=organic&iid=4297b951-1dc1-4af5-97d7-553ba31ddcbb.MOBH4ZG33EBNZKS7.SEARCH&ppt=None&ppn=None&ssid=5q32h1who00000001747376271839&qH=f035ec546ac5ed77', 'https://www.flipkart.com/samsung-galaxy-s24-fe-5g-blue-256-gb/p/itme960199e26f23?pid=MOBH4ZG3E9SB6WDQ&lid=LSTMOBH4ZG3E9SB6WDQVVLSZR&marketplace=FLIPKART&q=samsung+galaxy+s24+fe+5g&store=tyy%2F4io&srno=s_1_3&otracker=AS_QueryStore_OrganicAutoSuggest_1_16_na_na_ps&otracker1=AS_QueryStore_OrganicAutoSuggest_1_16_na_na_ps&fm=organic&iid=4297b951-1dc1-4af5-97d7-553ba31ddcbb.MOBH4ZG3E9SB6WDQ.SEARCH&ppt=None&ppn=None&ssid=5q32h1who00000001747376271839&qH=f035ec546ac5ed77', 'https://www.flipkart.com/samsung-galaxy-s24-fe-5g-mint-256-gb/p/itme960199e26f23?pid=MOBH4ZG3JACNJMZC&lid=LSTMOBH4ZG3JACNJMZCFREL85&marketplace=FLIPKART&q=samsung+galaxy+s24+fe+5g&store=tyy%2F4io&srno=s_1_4&otracker=AS_QueryStore_OrganicAutoSuggest_1_16_na_na_ps&otracker1=AS_QueryStore_OrganicAutoSuggest_1_16_na_na_ps&fm=organic&iid=4297b951-1dc1-4af5-97d7-553ba31ddcbb.MOBH4ZG3JACNJMZC.SEARCH&ppt=None&ppn=None&ssid=5q32h1who00000001747376271839&qH=f035ec546ac5ed77', 'https://www.flipkart.com/samsung-galaxy-s24-fe-5g-graphite-256-gb/p/itme960199e26f23?pid=MOBH4ZG3KPRR7HWZ&lid=LSTMOBH4ZG3KPRR7HWZWYHPPG&marketplace=FLIPKART&q=samsung+galaxy+s24+fe+5g&store=tyy%2F4io&srno=s_1_5&otracker=AS_QueryStore_OrganicAutoSuggest_1_16_na_na_ps&otracker1=AS_QueryStore_OrganicAutoSuggest_1_16_na_na_ps&fm=organic&iid=4297b951-1dc1-4af5-97d7-553ba31ddcbb.MOBH4ZG3KPRR7HWZ.SEARCH&ppt=None&ppn=None&ssid=5q32h1who00000001747376271839&qH=f035ec546ac5ed77', 'https://www.flipkart.com/samsung-galaxy-s24-fe-5g-mint-128-gb/p/itme960199e26f23?pid=MOBH4ZG3TSXHKXH2&lid=LSTMOBH4ZG3TSXHKXH2BH0BQS&marketplace=FLIPKART&q=samsung+galaxy+s24+fe+5g&store=tyy%2F4io&spotlightTagId=default_BestsellerId_tyy%2F4io&srno=s_1_6&otracker=AS_QueryStore_OrganicAutoSuggest_1_16_na_na_ps&otracker1=AS_QueryStore_OrganicAutoSuggest_1_16_na_na_ps&fm=organic&iid=4297b951-1dc1-4af5-97d7-553ba31ddcbb.MOBH4ZG3TSXHKXH2.SEARCH&ppt=None&ppn=None&ssid=5q32h1who00000001747376271839&qH=f035ec546ac5ed77', 'https://www.flipkart.com/samsung-galaxy-s24-5g-cobalt-violet-256-gb/p/itme4c78903b0c9f?pid=MOBGX2F3GNSJZ23R&lid=LSTMOBGX2F3GNSJZ23REJ6ZQ8&marketplace=FLIPKART&q=samsung+galaxy+s24+fe+5g&store=tyy%2F4io&srno=s_1_7&otracker=AS_QueryStore_OrganicAutoSuggest_1_16_na_na_ps&otracker1=AS_QueryStore_OrganicAutoSuggest_1_16_na_na_ps&fm=organic&iid=4297b951-1dc1-4af5-97d7-553ba31ddcbb.MOBGX2F3GNSJZ23R.SEARCH&ppt=None&ppn=None&ssid=5q32h1who00000001747376271839&qH=f035ec546ac5ed77', 'https://www.flipkart.com/samsung-galaxy-s24-5g-marble-gray-128-gb/p/itmd5309d6e0a151?pid=MOBHYJ6QZP2UA4X9&lid=LSTMOBHYJ6QZP2UA4X9WSTBPZ&marketplace=FLIPKART&q=samsung+galaxy+s24+fe+5g&store=tyy%2F4io&srno=s_1_8&otracker=AS_QueryStore_OrganicAutoSuggest_1_16_na_na_ps&otracker1=AS_QueryStore_OrganicAutoSuggest_1_16_na_na_ps&fm=organic&iid=4297b951-1dc1-4af5-97d7-553ba31ddcbb.MOBHYJ6QZP2UA4X9.SEARCH&ppt=None&ppn=None&ssid=5q32h1who00000001747376271839&qH=f035ec546ac5ed77', 'https://www.flipkart.com/samsung-galaxy-s24-5g-cobalt-violet-128-gb/p/itma2ec54ed01030?pid=MOBHYJ6Q3ZAFJTF7&lid=LSTMOBHYJ6Q3ZAFJTF7GUPLRR&marketplace=FLIPKART&q=samsung+galaxy+s24+fe+5g&store=tyy%2F4io&srno=s_1_9&otracker=AS_QueryStore_OrganicAutoSuggest_1_16_na_na_ps&otracker1=AS_QueryStore_OrganicAutoSuggest_1_16_na_na_ps&fm=organic&iid=4297b951-1dc1-4af5-97d7-553ba31ddcbb.MOBHYJ6Q3ZAFJTF7.SEARCH&ppt=None&ppn=None&ssid=5q32h1who00000001747376271839&qH=f035ec546ac5ed77', 'https://www.flipkart.com/samsung-galaxy-s24-5g-cobalt-violet-128-gb/p/itmd7a1209e2c6d5?pid=MOBH3P2QD55XJYPN&lid=LSTMOBH3P2QD55XJYPNVA6E1M&marketplace=FLIPKART&q=samsung+galaxy+s24+fe+5g&store=tyy%2F4io&srno=s_1_10&otracker=AS_QueryStore_OrganicAutoSuggest_1_16_na_na_ps&otracker1=AS_QueryStore_OrganicAutoSuggest_1_16_na_na_ps&fm=organic&iid=4297b951-1dc1-4af5-97d7-553ba31ddcbb.MOBH3P2QD55XJYPN.SEARCH&ppt=None&ppn=None&ssid=5q32h1who00000001747376271839&qH=f035ec546ac5ed77']\n"
     ]
    }
   ],
   "source": [
    "links = soup.find_all(\"a\",class_ = \"CGtC98\")\n",
    "link = []\n",
    "for i in links[0:10]:\n",
    "    d = \"https://www.flipkart.com\"+i[\"href\"]\n",
    "    link.append(d)\n",
    "print(link)"
   ]
  },
  {
   "cell_type": "markdown",
   "id": "53d6147d-d25e-41d4-8485-1e365d96e054",
   "metadata": {},
   "source": [
    "# Creating a DataFrame"
   ]
  },
  {
   "cell_type": "code",
   "execution_count": 32,
   "id": "ab6d6e57-050e-409b-8adb-e396156c899a",
   "metadata": {},
   "outputs": [],
   "source": [
    "df = pd.DataFrame()"
   ]
  },
  {
   "cell_type": "code",
   "execution_count": 33,
   "id": "305722ac-843b-4134-925b-55ee1539c74e",
   "metadata": {},
   "outputs": [],
   "source": [
    "df[\"Names\"] = name\n",
    "df[\"Prices\"] = price\n",
    "df[\"ratings\"] = rating\n",
    "df[\"images\"] = image\n",
    "df[\"links\"] = link"
   ]
  },
  {
   "cell_type": "code",
   "execution_count": 34,
   "id": "3eaff502-7b08-4f4b-9436-93fc690b8a84",
   "metadata": {},
   "outputs": [
    {
     "name": "stdout",
     "output_type": "stream",
     "text": [
      "                                           Names   Prices  ratings  \\\n",
      "0        SAMSUNG Galaxy S24 FE 5G (Blue, 128 GB)  44999.0      4.5   \n",
      "1    SAMSUNG Galaxy S24 FE 5G (Graphite, 128 GB)  44999.0      4.5   \n",
      "2        SAMSUNG Galaxy S24 FE 5G (Blue, 256 GB)  50999.0      4.5   \n",
      "3        SAMSUNG Galaxy S24 FE 5G (Mint, 256 GB)  50999.0      4.5   \n",
      "4    SAMSUNG Galaxy S24 FE 5G (Graphite, 256 GB)  50999.0      4.5   \n",
      "5        SAMSUNG Galaxy S24 FE 5G (Mint, 128 GB)  44999.0      4.5   \n",
      "6  SAMSUNG Galaxy S24 5G (Cobalt Violet, 256 GB)  60999.0      4.6   \n",
      "7    SAMSUNG Galaxy S24 5G (Marble Gray, 128 GB)  54999.0      4.6   \n",
      "8  SAMSUNG Galaxy S24 5G (Cobalt Violet, 128 GB)  54999.0      4.6   \n",
      "9  SAMSUNG Galaxy S24 5G (Cobalt Violet, 128 GB)  59999.0      4.6   \n",
      "\n",
      "                                              images  \\\n",
      "0  https://rukminim2.flixcart.com/image/312/312/x...   \n",
      "1  https://rukminim2.flixcart.com/image/312/312/x...   \n",
      "2  https://rukminim2.flixcart.com/image/312/312/x...   \n",
      "3  https://rukminim2.flixcart.com/image/312/312/x...   \n",
      "4  https://rukminim2.flixcart.com/image/312/312/x...   \n",
      "5  https://rukminim2.flixcart.com/image/312/312/x...   \n",
      "6  https://rukminim2.flixcart.com/image/312/312/x...   \n",
      "7  https://rukminim2.flixcart.com/image/312/312/x...   \n",
      "8  https://rukminim2.flixcart.com/image/312/312/x...   \n",
      "9  https://rukminim2.flixcart.com/image/312/312/x...   \n",
      "\n",
      "                                               links  \n",
      "0  https://www.flipkart.com/samsung-galaxy-s24-fe...  \n",
      "1  https://www.flipkart.com/samsung-galaxy-s24-fe...  \n",
      "2  https://www.flipkart.com/samsung-galaxy-s24-fe...  \n",
      "3  https://www.flipkart.com/samsung-galaxy-s24-fe...  \n",
      "4  https://www.flipkart.com/samsung-galaxy-s24-fe...  \n",
      "5  https://www.flipkart.com/samsung-galaxy-s24-fe...  \n",
      "6  https://www.flipkart.com/samsung-galaxy-s24-5g...  \n",
      "7  https://www.flipkart.com/samsung-galaxy-s24-5g...  \n",
      "8  https://www.flipkart.com/samsung-galaxy-s24-5g...  \n",
      "9  https://www.flipkart.com/samsung-galaxy-s24-5g...  \n"
     ]
    }
   ],
   "source": [
    "print(df)"
   ]
  },
  {
   "cell_type": "code",
   "execution_count": 35,
   "id": "44de077b-a755-4c4a-92d3-d1dd1049dc36",
   "metadata": {},
   "outputs": [],
   "source": [
    "df.to_csv(\"MobilesData.csv\")"
   ]
  },
  {
   "cell_type": "code",
   "execution_count": null,
   "id": "8e405236-3e3f-41a3-bc1a-7a33a260ccd3",
   "metadata": {},
   "outputs": [],
   "source": []
  },
  {
   "cell_type": "code",
   "execution_count": null,
   "id": "afa3c3f3-0a44-4827-a849-ce4e840c8051",
   "metadata": {},
   "outputs": [],
   "source": []
  }
 ],
 "metadata": {
  "kernelspec": {
   "display_name": "Python 3 (ipykernel)",
   "language": "python",
   "name": "python3"
  },
  "language_info": {
   "codemirror_mode": {
    "name": "ipython",
    "version": 3
   },
   "file_extension": ".py",
   "mimetype": "text/x-python",
   "name": "python",
   "nbconvert_exporter": "python",
   "pygments_lexer": "ipython3",
   "version": "3.12.7"
  }
 },
 "nbformat": 4,
 "nbformat_minor": 5
}
